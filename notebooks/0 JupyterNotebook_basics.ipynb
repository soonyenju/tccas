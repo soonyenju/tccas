{
 "cells": [
  {
   "cell_type": "markdown",
   "id": "6e92a715-247d-40ee-aa7d-bf147e118ead",
   "metadata": {},
   "source": [
    "# Notebook 0: Jupyter Notebook basics\n",
    "\n",
    "This notebook introduces:\n",
    "- the basics of Python programming\n",
    "- Jupyter notebook"
   ]
  },
  {
   "cell_type": "markdown",
   "id": "b7324bdf-706f-42d6-8fe3-bf0cb3a16317",
   "metadata": {},
   "source": [
    "# Basic Python syntax"
   ]
  },
  {
   "cell_type": "code",
   "execution_count": 1,
   "id": "e4494ed2-0150-401c-9c9b-5722589609cf",
   "metadata": {
    "tags": []
   },
   "outputs": [
    {
     "name": "stdout",
     "output_type": "stream",
     "text": [
      "hello world\n"
     ]
    }
   ],
   "source": [
    "print('hello world')"
   ]
  },
  {
   "cell_type": "code",
   "execution_count": 2,
   "id": "c702e2bb-130c-4b3f-be1e-ce287517fbf9",
   "metadata": {},
   "outputs": [
    {
     "name": "stdout",
     "output_type": "stream",
     "text": [
      "10 3.14 Earth True\n"
     ]
    }
   ],
   "source": [
    "integer_value = 10\n",
    "float_value = 3.14\n",
    "string_value = \"Earth\"\n",
    "boolean_value = True\n",
    "\n",
    "print(integer_value, float_value, string_value, boolean_value)"
   ]
  },
  {
   "cell_type": "code",
   "execution_count": 3,
   "id": "57c693aa-3f97-40aa-a279-3659ac95a5e6",
   "metadata": {},
   "outputs": [
    {
     "name": "stdout",
     "output_type": "stream",
     "text": [
      "CLIMATE CHANGE\n",
      "climate change\n",
      "Global Change\n"
     ]
    }
   ],
   "source": [
    "message = \"Climate Change\"\n",
    "print(message.upper())\n",
    "print(message.lower())\n",
    "print(message.replace(\"Climate\", \"Global\"))"
   ]
  },
  {
   "cell_type": "code",
   "execution_count": 4,
   "id": "344a4f74-2c0a-46bf-b2d9-54fa3b2f6940",
   "metadata": {},
   "outputs": [
    {
     "name": "stdout",
     "output_type": "stream",
     "text": [
      "['New York', 'Paris', 'Tokyo', 'Nairobi']\n"
     ]
    }
   ],
   "source": [
    "cities = [\"New York\", \"Paris\", \"Tokyo\"]\n",
    "cities.append(\"Nairobi\")\n",
    "print(cities)"
   ]
  },
  {
   "cell_type": "code",
   "execution_count": 5,
   "id": "5c9f8769-04b4-4c61-8d98-a4ee1060c87f",
   "metadata": {},
   "outputs": [
    {
     "name": "stdout",
     "output_type": "stream",
     "text": [
      "(34.05, -118.25)\n",
      "{'France', 'USA', 'Kenya'}\n"
     ]
    }
   ],
   "source": [
    "coordinates = (34.05, -118.25)\n",
    "unique_countries = {\"USA\", \"France\", \"Kenya\"}\n",
    "print(coordinates)\n",
    "print(unique_countries)"
   ]
  },
  {
   "cell_type": "code",
   "execution_count": 6,
   "id": "a5067c42-110f-4da8-a302-a47d7913107b",
   "metadata": {},
   "outputs": [
    {
     "name": "stdout",
     "output_type": "stream",
     "text": [
      "{'location': 'California', 'magnitude': 6.4, 'depth_km': 10}\n",
      "California\n"
     ]
    }
   ],
   "source": [
    "earthquake_data = {\"location\": \"California\", \"magnitude\": 6.4, \"depth_km\": 10}\n",
    "print(earthquake_data)\n",
    "print(earthquake_data[\"location\"])"
   ]
  },
  {
   "cell_type": "code",
   "execution_count": 7,
   "id": "2d880abc-a675-48cd-a9de-3727a33bca42",
   "metadata": {
    "tags": []
   },
   "outputs": [
    {
     "name": "stdout",
     "output_type": "stream",
     "text": [
      "City: New York\n",
      "City: Paris\n",
      "City: Tokyo\n",
      "City: Nairobi\n",
      "Count is 0\n",
      "Count is 1\n",
      "Count is 2\n"
     ]
    }
   ],
   "source": [
    "for city in cities:\n",
    "    print(\"City:\", city)\n",
    "\n",
    "count = 0\n",
    "while count < 3:\n",
    "    print(\"Count is\", count)\n",
    "    count += 1\n"
   ]
  },
  {
   "cell_type": "code",
   "execution_count": 8,
   "id": "cb280e47-25ad-41fc-9a8a-31f9e4af8ba3",
   "metadata": {},
   "outputs": [
    {
     "name": "stdout",
     "output_type": "stream",
     "text": [
      "Cold\n"
     ]
    }
   ],
   "source": [
    "temp = 15\n",
    "if temp > 30:\n",
    "    print(\"Hot\")\n",
    "elif temp > 20:\n",
    "    print(\"Warm\")\n",
    "else:\n",
    "    print(\"Cold\")"
   ]
  },
  {
   "cell_type": "code",
   "execution_count": 9,
   "id": "63d8d8e8-f50e-4d0f-85c5-42aa9f13cc17",
   "metadata": {},
   "outputs": [
    {
     "name": "stdout",
     "output_type": "stream",
     "text": [
      "4.605170185988092\n",
      "0.4305172613587991\n",
      "2025-09-21 21:35:48.378811\n"
     ]
    }
   ],
   "source": [
    "import math\n",
    "print(math.log(100))\n",
    "\n",
    "import random\n",
    "print(random.uniform(0, 1))\n",
    "\n",
    "import datetime\n",
    "print(datetime.datetime.now())"
   ]
  },
  {
   "cell_type": "code",
   "execution_count": 10,
   "id": "1343a012-93aa-4f93-9a7b-a280c84cf21c",
   "metadata": {
    "tags": []
   },
   "outputs": [],
   "source": [
    "# After # is a comment, it won't be run\n",
    "# for example, nothing will show below the next line\n",
    "# print('hello world')"
   ]
  },
  {
   "cell_type": "code",
   "execution_count": 11,
   "id": "123ded76-06d1-4920-b903-2d94a141aa8f",
   "metadata": {},
   "outputs": [],
   "source": [
    "# !pip install numpy"
   ]
  },
  {
   "cell_type": "code",
   "execution_count": 12,
   "id": "6fdf035a-cf30-495d-bdc6-de597bafd860",
   "metadata": {
    "tags": []
   },
   "outputs": [
    {
     "name": "stdout",
     "output_type": "stream",
     "text": [
      "'0 Admin.ipynb'\t\t\t  '4 Data_assimilation_obsolete.ipynb'\n",
      "'0 JupyterNotebook_basics.ipynb'   __pycache__\n",
      "'1 Setup_environment.ipynb'\t   env_setup.py\n",
      "'2 Forward_run.ipynb'\t\t   functions.py\n",
      "'3 D&B climate change.ipynb'\t   mk.compile.bak\n",
      "'4 Data_assimilation.ipynb'\n",
      "/home/ffe36910-538d-428f-b09c-e8b7f09a268f/notebooks_main_dev\n"
     ]
    }
   ],
   "source": [
    "!ls\n",
    "!pwd"
   ]
  },
  {
   "cell_type": "code",
   "execution_count": 13,
   "id": "62d8c776-a17d-48b3-ad0e-a59ff2a2f258",
   "metadata": {
    "tags": []
   },
   "outputs": [
    {
     "name": "stdout",
     "output_type": "stream",
     "text": [
      "0 Admin.ipynb\n",
      "0 JupyterNotebook_basics.ipynb\n",
      "1 Setup_environment.ipynb\n",
      "2 Forward_run.ipynb\n",
      "3 D&B climate change.ipynb\n",
      "4 Data_assimilation.ipynb\n",
      "4 Data_assimilation_obsolete.ipynb\n",
      "__pycache__\n",
      "env_setup.py\n",
      "functions.py\n",
      "mk.compile.bak\n",
      "/home/ffe36910-538d-428f-b09c-e8b7f09a268f/notebooks_main_dev\n"
     ]
    }
   ],
   "source": [
    "%%bash\n",
    "\n",
    "ls\n",
    "pwd"
   ]
  },
  {
   "cell_type": "code",
   "execution_count": null,
   "id": "4dabd3d8-4cf9-489b-9028-c08c64fdd59e",
   "metadata": {},
   "outputs": [],
   "source": []
  }
 ],
 "metadata": {
  "kernelspec": {
   "display_name": "tccas-tccas",
   "language": "python",
   "name": "conda-env-tccas-tccas-py"
  },
  "language_info": {
   "codemirror_mode": {
    "name": "ipython",
    "version": 3
   },
   "file_extension": ".py",
   "mimetype": "text/x-python",
   "name": "python",
   "nbconvert_exporter": "python",
   "pygments_lexer": "ipython3",
   "version": "3.10.13"
  }
 },
 "nbformat": 4,
 "nbformat_minor": 5
}
